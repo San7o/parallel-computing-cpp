{
 "cells": [
  {
   "cell_type": "markdown",
   "id": "6fab2222-9e35-40a9-90ba-3d0fa81e0004",
   "metadata": {},
   "source": [
    "# Chrono tests"
   ]
  },
  {
   "cell_type": "code",
   "execution_count": 5,
   "id": "840e4163-aa6f-4ea1-aa52-0a2b0fa7ee47",
   "metadata": {},
   "outputs": [
    {
     "name": "stdout",
     "output_type": "stream",
     "text": [
      "Column-wise averages:\n",
      "displacement    7.990290e-07\n",
      "setup           2.230076e-06\n",
      "scatter         3.378206e-03\n",
      "transpose       1.352249e-03\n",
      "gather          4.325156e-03\n",
      "dtype: float64\n",
      "Sum of all averages: 0.009058639625\n"
     ]
    }
   ],
   "source": [
    "import pandas as pd\n",
    "\n",
    "# Load the CSV file into a DataFrame\n",
    "df = pd.read_csv(\"../reports/dbg.txt\")\n",
    "\n",
    "# Compute the mean for each column (numeric only)\n",
    "column_means = df.mean(numeric_only=True)\n",
    "\n",
    "# Print the averages\n",
    "print(\"Column-wise averages:\")\n",
    "print(column_means)\n",
    "sum_of_averages = column_means.sum()\n",
    "\n",
    "# Print the result\n",
    "print(\"Sum of all averages:\", sum_of_averages)"
   ]
  },
  {
   "cell_type": "code",
   "execution_count": 6,
   "id": "a6742276-9a5e-4e3a-b9b8-2ef580c9fc2e",
   "metadata": {},
   "outputs": [
    {
     "name": "stdout",
     "output_type": "stream",
     "text": [
      "Each column's average divided by the sum of all averages:\n",
      "displacement    0.000088\n",
      "setup           0.000246\n",
      "scatter         0.372926\n",
      "transpose       0.149277\n",
      "gather          0.477462\n",
      "dtype: float64\n"
     ]
    }
   ],
   "source": [
    "normalized_means = column_means / sum_of_averages\n",
    "\n",
    "# Print the result\n",
    "print(\"Each column's average divided by the sum of all averages:\")\n",
    "print(normalized_means)"
   ]
  },
  {
   "cell_type": "code",
   "execution_count": null,
   "id": "2aafd9ed-159c-4024-9094-70dfd0b0b5d9",
   "metadata": {},
   "outputs": [],
   "source": []
  }
 ],
 "metadata": {
  "kernelspec": {
   "display_name": "venv",
   "language": "python",
   "name": "venv"
  },
  "language_info": {
   "codemirror_mode": {
    "name": "ipython",
    "version": 3
   },
   "file_extension": ".py",
   "mimetype": "text/x-python",
   "name": "python",
   "nbconvert_exporter": "python",
   "pygments_lexer": "ipython3",
   "version": "3.12.5"
  }
 },
 "nbformat": 4,
 "nbformat_minor": 5
}
